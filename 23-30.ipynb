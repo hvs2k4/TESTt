{
 "cells": [
  {
   "cell_type": "code",
   "execution_count": 11,
   "metadata": {},
   "outputs": [],
   "source": [
    "import pandas as pd\n",
    "import numpy as np\n",
    "import matplotlib.pyplot as plt\n"
   ]
  },
  {
   "cell_type": "code",
   "execution_count": 12,
   "metadata": {},
   "outputs": [],
   "source": [
    "\n",
    "# CSV file read karein\n",
    "df = pd.read_csv(r\"C:\\Users\\harsh\\Desktop\\ML\\Screenshot 2025-03-28 072707.csv\")  \n",
    "\n"
   ]
  },
  {
   "cell_type": "markdown",
   "metadata": {},
   "source": [
    "# QUES 23"
   ]
  },
  {
   "cell_type": "code",
   "execution_count": 13,
   "metadata": {},
   "outputs": [
    {
     "name": "stdout",
     "output_type": "stream",
     "text": [
      "Mean Score of Each Subject:\n",
      "Math          82.50\n",
      "Science       78.75\n",
      "English       83.25\n",
      "Unnamed: 4      NaN\n",
      "History       81.75\n",
      "dtype: float64\n"
     ]
    }
   ],
   "source": [
    "# 23. Calculate mean score of each subject\n",
    "subject_means = df.iloc[:, 1:].mean()\n",
    "print(\"Mean Score of Each Subject:\")\n",
    "print(subject_means)\n",
    "\n"
   ]
  },
  {
   "cell_type": "markdown",
   "metadata": {},
   "source": [
    "# QUES 24"
   ]
  },
  {
   "cell_type": "code",
   "execution_count": 14,
   "metadata": {},
   "outputs": [
    {
     "name": "stdout",
     "output_type": "stream",
     "text": [
      "\n",
      "Average Score of Each Student:\n",
      "  Student Name  Average Score\n",
      "0         John          78.75\n",
      "1        Sarah          86.25\n",
      "2        David          72.50\n",
      "3        Emily          88.75\n"
     ]
    }
   ],
   "source": [
    "\n",
    "# 24. Calculate the average score of each student\n",
    "df[\"Average Score\"] = df.iloc[:, 1:].mean(axis=1)\n",
    "print(\"\\nAverage Score of Each Student:\")\n",
    "print(df[[\"Student Name\", \"Average Score\"]])\n",
    "\n"
   ]
  },
  {
   "cell_type": "markdown",
   "metadata": {},
   "source": [
    "# QUES 25"
   ]
  },
  {
   "cell_type": "code",
   "execution_count": 15,
   "metadata": {},
   "outputs": [
    {
     "name": "stdout",
     "output_type": "stream",
     "text": [
      "\n",
      "Student with Highest Overall Score: Emily\n"
     ]
    }
   ],
   "source": [
    "# 25. Find the student with the highest overall score\n",
    "top_student = df.loc[df[\"Average Score\"].idxmax(), \"Student Name\"]\n",
    "print(\"\\nStudent with Highest Overall Score:\", top_student)\n"
   ]
  },
  {
   "cell_type": "markdown",
   "metadata": {},
   "source": [
    "# QUES 26"
   ]
  },
  {
   "cell_type": "code",
   "execution_count": 16,
   "metadata": {},
   "outputs": [
    {
     "data": {
      "image/png": "[encoded data removed]",
      "text/plain": [
       "<Figure size 600x400 with 1 Axes>"
      ]
     },
     "metadata": {},
     "output_type": "display_data"
    }
   ],
   "source": [
    "\n",
    "# 26. Scatter plot for Math vs Science\n",
    "plt.figure(figsize=(6, 4))\n",
    "plt.scatter(df[\"Math\"], df[\"Science\"], color='blue')\n",
    "plt.xlabel(\"Math Score\")\n",
    "plt.ylabel(\"Science Score\")\n",
    "plt.title(\"Math vs Science Scores\")\n",
    "plt.show()\n",
    "\n"
   ]
  },
  {
   "cell_type": "markdown",
   "metadata": {},
   "source": [
    "# QUES 30"
   ]
  },
  {
   "cell_type": "code",
   "execution_count": 17,
   "metadata": {},
   "outputs": [
    {
     "name": "stdout",
     "output_type": "stream",
     "text": [
      "\n",
      "Students with History Score greater than Average:\n",
      "  Student Name  History\n",
      "1        Sarah       85\n",
      "3        Emily       92\n"
     ]
    }
   ],
   "source": [
    "# 30. Students with History score greater than average\n",
    "avg_score = df[\"History\"].mean()\n",
    "high_history = df[df[\"History\"] > avg_score]\n",
    "print(\"\\nStudents with History Score greater than Average:\")\n",
    "print(high_history[[\"Student Name\", \"History\"]])"
   ]
  }
 ],
 "metadata": {
  "kernelspec": {
   "display_name": "base",
   "language": "python",
   "name": "python3"
  },
  "language_info": {
   "codemirror_mode": {
    "name": "ipython",
    "version": 3
   },
   "file_extension": ".py",
   "mimetype": "text/x-python",
   "name": "python",
   "nbconvert_exporter": "python",
   "pygments_lexer": "ipython3",
   "version": "3.12.7"
  }
 },
 "nbformat": 4,
 "nbformat_minor": 2
}
